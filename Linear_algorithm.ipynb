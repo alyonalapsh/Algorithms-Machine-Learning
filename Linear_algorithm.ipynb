{
 "cells": [
  {
   "cell_type": "code",
   "execution_count": 12,
   "id": "19e7b62f",
   "metadata": {},
   "outputs": [],
   "source": [
    "import numpy as np\n",
    "import matplotlib.pyplot as plt"
   ]
  },
  {
   "cell_type": "markdown",
   "id": "99e30ef9",
   "metadata": {},
   "source": [
    "1. Дана модель вида:\n",
    "### $a(x, w) = w_{0} + w_{1}*x + w_{2}*x^2 + w_{3}*x^3$\n",
    "\n",
    "Необходимо найти коэффициенты w."
   ]
  },
  {
   "cell_type": "code",
   "execution_count": 2,
   "id": "2ce44bd2",
   "metadata": {},
   "outputs": [],
   "source": [
    "np.random.seed(0)\n",
    "x = np.arange(-1.0, 1.0, 0.1) # аргумент [-1; 1] с шагом 0,1\n",
    "\n",
    "loss = lambda ax, y: (ax - y) ** 2\n",
    "model_a = lambda xx, ww: (ww[0] + ww[1] * xx + ww[2] * xx ** 2 + ww[3] * xx ** 3) # модель\n",
    "\n",
    "Y = np.sin(x * 5) + 2 * x + np.random.normal(0, 0.1, len(x)) # вектор целевых значений\n",
    "\n",
    "X = np.array([[1, xx, xx**2, xx**3] for xx in x]) # обучающая выборка для поиска коэффициентов w модели a\n",
    "\n",
    "w = np.dot((np.dot(np.linalg.inv(np.dot(X.T, X)), X.T)), Y)"
   ]
  },
  {
   "cell_type": "markdown",
   "id": "cde252d3",
   "metadata": {},
   "source": [
    "Для решения использовалась квадратическая функция потерь: \n",
    "### $loss(a, y_{i}) = (a(x_{i}) - y_{i})^2$"
   ]
  },
  {
   "cell_type": "markdown",
   "id": "e7da1539",
   "metadata": {},
   "source": [
    "Функционал качества (средний эмпирический риск): \n",
    "### $Q(a, X) = \\frac{1}{n} * (X*w - Y)^2$"
   ]
  },
  {
   "cell_type": "markdown",
   "id": "6e847da6",
   "metadata": {},
   "source": [
    "Дифференцируем выражение по вектору w, получаем: \n",
    "### $\\frac{\\partial Q(a, X)}{\\partial w} = \\frac{2}{n} * X^T * (X*w - Y) = 0$"
   ]
  },
  {
   "cell_type": "markdown",
   "id": "83a72514",
   "metadata": {},
   "source": [
    "получаем: \n",
    "### $w = (X^T * X)^{-1}*X^T*Y$"
   ]
  },
  {
   "cell_type": "markdown",
   "id": "5a909398",
   "metadata": {},
   "source": [
    " "
   ]
  },
  {
   "cell_type": "markdown",
   "id": "0307b78e",
   "metadata": {},
   "source": [
    "2. Задача бинарной классификации. Необходимо найти коэффициенты w."
   ]
  },
  {
   "cell_type": "code",
   "execution_count": 19,
   "id": "6765230d",
   "metadata": {},
   "outputs": [],
   "source": [
    "data_x = [(5.8, 1.2), (5.6, 1.5), (6.5, 1.5), (6.1, 1.3), (6.4, 1.3), (7.7, 2.0), (6.0, 1.8), (5.6, 1.3), (6.0, 1.6), (5.8, 1.9), (5.7, 2.0), (6.3, 1.5), (6.2, 1.8), (7.7, 2.3), (5.8, 1.2), (6.3, 1.8), (6.0, 1.0), (6.2, 1.3), (5.7, 1.3), (6.3, 1.9), (6.7, 2.5), (5.5, 1.2), (4.9, 1.0), (6.1, 1.4), (6.0, 1.6), (7.2, 2.5), (7.3, 1.8), (6.6, 1.4), (5.6, 2.0), (5.5, 1.0), (6.4, 2.2), (5.6, 1.3), (6.6, 1.3), (6.9, 2.1), (6.8, 2.1), (5.7, 1.3), (7.0, 1.4), (6.1, 1.4), (6.1, 1.8), (6.7, 1.7), (6.0, 1.5), (6.5, 1.8), (6.4, 1.5), (6.9, 1.5), (5.6, 1.3), (6.7, 1.4), (5.8, 1.9), (6.3, 1.3), (6.7, 2.1), (6.2, 2.3), (6.3, 2.4), (6.7, 1.8), (6.4, 2.3), (6.2, 1.5), (6.1, 1.4), (7.1, 2.1), (5.7, 1.0), (6.8, 1.4), (6.8, 2.3), (5.1, 1.1), (4.9, 1.7), (5.9, 1.8), (7.4, 1.9), (6.5, 2.0), (6.7, 1.5), (6.5, 2.0), (5.8, 1.0), (6.4, 2.1), (7.6, 2.1), (5.8, 2.4), (7.7, 2.2), (6.3, 1.5), (5.0, 1.0), (6.3, 1.6), (7.7, 2.3), (6.4, 1.9), (6.5, 2.2), (5.7, 1.2), (6.9, 2.3), (5.7, 1.3), (6.1, 1.2), (5.4, 1.5), (5.2, 1.4), (6.7, 2.3), (7.9, 2.0), (5.6, 1.1), (7.2, 1.8), (5.5, 1.3), (7.2, 1.6), (6.3, 2.5), (6.3, 1.8), (6.7, 2.4), (5.0, 1.0), (6.4, 1.8), (6.9, 2.3), (5.5, 1.3), (5.5, 1.1), (5.9, 1.5), (6.0, 1.5), (5.9, 1.8)]\n",
    "data_y = [-1, -1, -1, -1, -1, 1, 1, -1, -1, 1, 1, -1, 1, 1, -1, 1, -1, -1, -1, 1, 1, -1, -1, -1, -1, 1, 1, -1, 1, -1, 1, -1, -1, 1, 1, -1, -1, 1, 1, -1, 1, 1, -1, -1, -1, -1, 1, -1, 1, 1, 1, 1, 1, -1, -1, 1, -1, -1, 1, -1, 1, -1, 1, 1, -1, 1, -1, 1, 1, 1, 1, 1, -1, -1, 1, 1, 1, -1, 1, -1, -1, -1, -1, 1, 1, -1, 1, -1, 1, 1, 1, 1, -1, 1, 1, -1, -1, -1, -1, 1]\n",
    "\n",
    "X = np.array([[1, *xx] for xx in data_x])\n",
    "y = np.array(data_y)\n",
    "\n",
    "xy = np.sum([x * y for x, y in zip(X, y)], axis=0)\n",
    "xx = np.linalg.inv(np.sum([np.outer(x, x) for x in X], axis=0))\n",
    "w = np.dot(xy, xx)"
   ]
  },
  {
   "cell_type": "markdown",
   "id": "10969f9c",
   "metadata": {},
   "source": [
    "Решение:\n",
    "\n",
    "Используя квадратическую функцию потерь: \n",
    "### $(1 - w^T * x_{i}*y_{i})^2$, \n",
    "\n",
    "при таком функционале качества: \n",
    "### $\\sum^n_{i=1} (1 - w^T * x_{i}*y_{i})^2$,\n",
    "\n",
    "находим вектор параметров w по формуле: \n",
    "### $w = \\sum^n_{i=1} (x^T_{i} * y_{i}) * (\\sum^n_{i=1} x_{i} * x^T_{i})^{-1}$\n",
    "\n",
    "Визуализируем данные и построим разделяющую линию:"
   ]
  },
  {
   "cell_type": "code",
   "execution_count": 21,
   "id": "599a2307",
   "metadata": {},
   "outputs": [
    {
     "data": {
      "image/png": "[encoded data removed]",
      "text/plain": [
       "<Figure size 640x480 with 1 Axes>"
      ]
     },
     "metadata": {},
     "output_type": "display_data"
    }
   ],
   "source": [
    "x_0 = X[y == 1][:, 1:]\n",
    "x_1 = X[y == -1][:, 1:]\n",
    "\n",
    "x_min, x_max = np.min(X[:, 1]), np.max(X[:, 1])\n",
    "x_range = np.linspace(x_min, x_max, 100)\n",
    "y_range = -x_range * w[1] / w[2] - w[0] / w[2]\n",
    "\n",
    "plt.figure()\n",
    "plt.scatter(x_0[:, 0], x_0[:, 1], color='blue', label='Class 1')\n",
    "plt.scatter(x_1[:, 0], x_1[:, 1], color='red', label='Class -1')\n",
    "plt.plot(x_range, y_range, color='green', label='Separating line')\n",
    "plt.legend()\n",
    "plt.show()"
   ]
  }
 ],
 "metadata": {
  "kernelspec": {
   "display_name": "Python 3 (ipykernel)",
   "language": "python",
   "name": "python3"
  },
  "language_info": {
   "codemirror_mode": {
    "name": "ipython",
    "version": 3
   },
   "file_extension": ".py",
   "mimetype": "text/x-python",
   "name": "python",
   "nbconvert_exporter": "python",
   "pygments_lexer": "ipython3",
   "version": "3.11.8"
  }
 },
 "nbformat": 4,
 "nbformat_minor": 5
}
